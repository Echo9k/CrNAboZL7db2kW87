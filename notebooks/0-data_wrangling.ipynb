{
  "cells": [
    {
      "cell_type": "markdown",
      "metadata": {
        "id": "riIi8xXHWflm"
      },
      "source": [
        "### Understanding the Problem:\n",
        "\n",
        "**1. Problem description**:\n",
        "\n",
        "   - **Objective**: The company’s primary objective is to ensure customer happiness, which is crucial for maintaining customer loyalty and sustaining growth, especially during challenging times like the COVID-19 pandemic. By accurately predicting customer happiness, the company can take proactive measures to improve customer experiences, thus reducing churn and enhancing customer satisfaction.\n",
        "   - **Actionable Insights**: Beyond just predicting customer happiness, the company needs insights into *why* customers are happy or unhappy. Understanding the key drivers behind customer satisfaction allows the company to make strategic decisions, such as improving delivery times, adjusting pricing strategies, or enhancing app usability.\n",
        "\n",
        "**2. Which metric should we use?**\n",
        "\n",
        "   - **Accuracy**: While accuracy is a straightforward and commonly used metric, it might not be the best choice, especially if there is class imbalance. In this context, the company should focus not just on overall accuracy but also on how well the model predicts both happy and unhappy customers.\n",
        "   - **Precision, Recall, F1-Score**: \n",
        "     - **Precision** is crucial when the cost of a false positive (predicting a customer is happy when they are not) is high.\n",
        "     - **Recall** is important when missing out on unhappy customers (false negatives) could lead to losing those customers.\n",
        "     - **F1-Score** balances precision and recall, and might be a more appropriate metric if both false positives and false negatives are costly.\n",
        "   > **Customer Lifetime Value (CLV) Impact**: The company might consider metrics that are tied to customer lifetime value, where the impact of retaining or losing a customer is factored into the evaluation.\n",
        "\n",
        "**3. What adds the most value?**\n",
        "\n",
        "   - **Predictive Power vs. Interpretability**: While a highly accurate model is valuable, the company also needs to understand what drives customer satisfaction. A simpler, more interpretable model might be preferable if it provides actionable insights, even if it’s slightly less accurate.\n",
        "   - **Customer Retention**: Focusing on the factors that contribute most to retaining customers adds significant value. Identifying and addressing the pain points that lead to customer dissatisfaction can directly impact the company’s revenue and growth.\n",
        "   - **Survey Optimization**: If the company can identify the minimal set of survey questions that still provide robust predictions, it can streamline its feedback process, reduce customer survey fatigue, and focus resources on the most impactful areas.\n",
        "\n",
        "### Conclusion:\n",
        "\n",
        "- **Primary Need**: The company needs a model that not only predicts customer happiness accurately but also provides insights into the factors that most influence customer satisfaction.\n",
        "- **Metrics**: While accuracy is important, the company should also consider precision, recall, and F1-score, possibly weighted by customer lifetime value, to ensure the model aligns with business goals.\n",
        "- **Value Addition**: Understanding and acting on the key drivers of customer satisfaction will add the most value. This includes focusing on features that have the highest impact on customer retention and optimizing the survey to gather only the most essential data."
      ]
    },
    {
      "cell_type": "code",
      "execution_count": 4,
      "metadata": {
        "colab": {
          "base_uri": "https://localhost:8080/",
          "height": 449
        },
        "id": "oUbs1HgEWYmy",
        "outputId": "6daabb6a-e5ee-4b92-c706-56ce066edccf"
      },
      "outputs": [
        {
          "name": "stdout",
          "output_type": "stream",
          "text": [
            "<class 'pandas.core.frame.DataFrame'>\n",
            "RangeIndex: 126 entries, 0 to 125\n",
            "Data columns (total 7 columns):\n",
            " #   Column  Non-Null Count  Dtype\n",
            "---  ------  --------------  -----\n",
            " 0   Y       126 non-null    int64\n",
            " 1   X1      126 non-null    int64\n",
            " 2   X2      126 non-null    int64\n",
            " 3   X3      126 non-null    int64\n",
            " 4   X4      126 non-null    int64\n",
            " 5   X5      126 non-null    int64\n",
            " 6   X6      126 non-null    int64\n",
            "dtypes: int64(7)\n",
            "memory usage: 7.0 KB\n"
          ]
        },
        {
          "data": {
            "text/plain": [
              "None"
            ]
          },
          "metadata": {},
          "output_type": "display_data"
        },
        {
          "data": {
            "text/html": [
              "<div>\n",
              "<style scoped>\n",
              "    .dataframe tbody tr th:only-of-type {\n",
              "        vertical-align: middle;\n",
              "    }\n",
              "\n",
              "    .dataframe tbody tr th {\n",
              "        vertical-align: top;\n",
              "    }\n",
              "\n",
              "    .dataframe thead th {\n",
              "        text-align: right;\n",
              "    }\n",
              "</style>\n",
              "<table border=\"1\" class=\"dataframe\">\n",
              "  <thead>\n",
              "    <tr style=\"text-align: right;\">\n",
              "      <th></th>\n",
              "      <th>Y</th>\n",
              "      <th>X1</th>\n",
              "      <th>X2</th>\n",
              "      <th>X3</th>\n",
              "      <th>X4</th>\n",
              "      <th>X5</th>\n",
              "      <th>X6</th>\n",
              "    </tr>\n",
              "  </thead>\n",
              "  <tbody>\n",
              "    <tr>\n",
              "      <th>count</th>\n",
              "      <td>126.000000</td>\n",
              "      <td>126.000000</td>\n",
              "      <td>126.000000</td>\n",
              "      <td>126.000000</td>\n",
              "      <td>126.000000</td>\n",
              "      <td>126.000000</td>\n",
              "      <td>126.000000</td>\n",
              "    </tr>\n",
              "    <tr>\n",
              "      <th>mean</th>\n",
              "      <td>0.547619</td>\n",
              "      <td>4.333333</td>\n",
              "      <td>2.531746</td>\n",
              "      <td>3.309524</td>\n",
              "      <td>3.746032</td>\n",
              "      <td>3.650794</td>\n",
              "      <td>4.253968</td>\n",
              "    </tr>\n",
              "    <tr>\n",
              "      <th>std</th>\n",
              "      <td>0.499714</td>\n",
              "      <td>0.800000</td>\n",
              "      <td>1.114892</td>\n",
              "      <td>1.023440</td>\n",
              "      <td>0.875776</td>\n",
              "      <td>1.147641</td>\n",
              "      <td>0.809311</td>\n",
              "    </tr>\n",
              "    <tr>\n",
              "      <th>min</th>\n",
              "      <td>0.000000</td>\n",
              "      <td>1.000000</td>\n",
              "      <td>1.000000</td>\n",
              "      <td>1.000000</td>\n",
              "      <td>1.000000</td>\n",
              "      <td>1.000000</td>\n",
              "      <td>1.000000</td>\n",
              "    </tr>\n",
              "    <tr>\n",
              "      <th>25%</th>\n",
              "      <td>0.000000</td>\n",
              "      <td>4.000000</td>\n",
              "      <td>2.000000</td>\n",
              "      <td>3.000000</td>\n",
              "      <td>3.000000</td>\n",
              "      <td>3.000000</td>\n",
              "      <td>4.000000</td>\n",
              "    </tr>\n",
              "    <tr>\n",
              "      <th>50%</th>\n",
              "      <td>1.000000</td>\n",
              "      <td>5.000000</td>\n",
              "      <td>3.000000</td>\n",
              "      <td>3.000000</td>\n",
              "      <td>4.000000</td>\n",
              "      <td>4.000000</td>\n",
              "      <td>4.000000</td>\n",
              "    </tr>\n",
              "    <tr>\n",
              "      <th>75%</th>\n",
              "      <td>1.000000</td>\n",
              "      <td>5.000000</td>\n",
              "      <td>3.000000</td>\n",
              "      <td>4.000000</td>\n",
              "      <td>4.000000</td>\n",
              "      <td>4.000000</td>\n",
              "      <td>5.000000</td>\n",
              "    </tr>\n",
              "    <tr>\n",
              "      <th>max</th>\n",
              "      <td>1.000000</td>\n",
              "      <td>5.000000</td>\n",
              "      <td>5.000000</td>\n",
              "      <td>5.000000</td>\n",
              "      <td>5.000000</td>\n",
              "      <td>5.000000</td>\n",
              "      <td>5.000000</td>\n",
              "    </tr>\n",
              "  </tbody>\n",
              "</table>\n",
              "</div>"
            ],
            "text/plain": [
              "                Y          X1          X2          X3          X4          X5  \\\n",
              "count  126.000000  126.000000  126.000000  126.000000  126.000000  126.000000   \n",
              "mean     0.547619    4.333333    2.531746    3.309524    3.746032    3.650794   \n",
              "std      0.499714    0.800000    1.114892    1.023440    0.875776    1.147641   \n",
              "min      0.000000    1.000000    1.000000    1.000000    1.000000    1.000000   \n",
              "25%      0.000000    4.000000    2.000000    3.000000    3.000000    3.000000   \n",
              "50%      1.000000    5.000000    3.000000    3.000000    4.000000    4.000000   \n",
              "75%      1.000000    5.000000    3.000000    4.000000    4.000000    4.000000   \n",
              "max      1.000000    5.000000    5.000000    5.000000    5.000000    5.000000   \n",
              "\n",
              "               X6  \n",
              "count  126.000000  \n",
              "mean     4.253968  \n",
              "std      0.809311  \n",
              "min      1.000000  \n",
              "25%      4.000000  \n",
              "50%      4.000000  \n",
              "75%      5.000000  \n",
              "max      5.000000  "
            ]
          },
          "metadata": {},
          "output_type": "display_data"
        }
      ],
      "source": [
        "import pandas as pd\n",
        "from IPython.display import display\n",
        "\n",
        "\n",
        "# Load the data\n",
        "file_path = r\"../data/raw/ACME-HappinessSurvey2020.csv\"\n",
        "df = pd.read_csv(file_path)\n",
        "\n",
        "# Display basic information about the dataset\n",
        "display(df.info())\n",
        "\n",
        "# Display the first few rows of the dataset\n",
        "df.sample(5)\n",
        "\n",
        "# Display the summary statistics of the dataset\n",
        "display(df.describe())"
      ]
    },
    {
      "cell_type": "markdown",
      "metadata": {},
      "source": [
        "The data has been successfully loaded and consists of 126 entries with 7 columns: `Y`, `X1`, `X2`, `X3`, `X4`, `X5`, and `X6`. There are no missing values in the dataset.\n"
      ]
    },
    {
      "cell_type": "markdown",
      "metadata": {},
      "source": [
        "The dataset contains 126 records with the following features:\n",
        "\n",
        "- **Y**: Target attribute indicating customer happiness (0 = unhappy, 1 = happy).\n",
        "- **X1**: Order delivered on time (1 to 5 scale).\n",
        "- **X2**: Contents of the order were as expected (1 to 5 scale).\n",
        "- **X3**: Ordered everything wanted (1 to 5 scale).\n",
        "- **X4**: Paid a good price for the order (1 to 5 scale).\n",
        "- **X5**: Satisfaction with the courier (1 to 5 scale).\n",
        "- **X6**: Ease of ordering via the app (1 to 5 scale).\n",
        "\n",
        "### Initial Observations:\n",
        "\n",
        "- The target variable `Y` is relatively balanced (mean around 0.55).\n",
        "- Most features have values primarily concentrated around the upper range (4-5), except for `X2` and `X3`, which have a slightly broader distribution.\n",
        "\n",
        "### Next Steps:\n",
        "\n",
        "1. **Modeling**: I will apply a classification algorithm to predict customer happiness.\n",
        "2. **Feature Importance**: I'll use feature selection techniques to identify the most significant features influencing customer happiness."
      ]
    },
    {
      "cell_type": "code",
      "execution_count": 5,
      "metadata": {},
      "outputs": [],
      "source": [
        "fcols = df.select_dtypes('float').columns\n",
        "icols = df.select_dtypes('integer').columns\n",
        "\n",
        "df[fcols] = df[fcols].apply(pd.to_numeric, downcast='float')\n",
        "df[icols] = df[icols].apply(pd.to_numeric, downcast='integer')\n",
        "\n",
        "df.info()"
      ]
    },
    {
      "cell_type": "code",
      "execution_count": 8,
      "metadata": {},
      "outputs": [
        {
          "name": "stdout",
          "output_type": "stream",
          "text": [
            "<class 'pandas.core.frame.DataFrame'>\n",
            "RangeIndex: 126 entries, 0 to 125\n",
            "Data columns (total 7 columns):\n",
            " #   Column  Non-Null Count  Dtype\n",
            "---  ------  --------------  -----\n",
            " 0   Y       126 non-null    int8 \n",
            " 1   X1      126 non-null    int8 \n",
            " 2   X2      126 non-null    int8 \n",
            " 3   X3      126 non-null    int8 \n",
            " 4   X4      126 non-null    int8 \n",
            " 5   X5      126 non-null    int8 \n",
            " 6   X6      126 non-null    int8 \n",
            "dtypes: int8(7)\n",
            "memory usage: 1010.0 bytes\n"
          ]
        }
      ],
      "source": [
        "df.to_parquet(\"../data/clean/ACME-happinesSurvey2020.parquet\", compression=\"brotli\")"
      ]
    },
    {
      "cell_type": "markdown",
      "metadata": {
        "id": "Pjgfgq0jXvlT"
      },
      "source": [
        "### Next Steps:\n",
        "\n",
        "1. **Feature Selection**:\n",
        "   - We'll use techniques like Recursive Feature Elimination (RFE) to identify the most important features.\n",
        "2. **Model Training and Evaluation**:\n",
        "   - Train a classification model (e.g., Logistic Regression, Random Forest).\n",
        "   - Evaluate the model using accuracy and other metrics."
      ]
    },
    {
      "cell_type": "code",
      "execution_count": null,
      "metadata": {},
      "outputs": [],
      "source": []
    }
  ],
  "metadata": {
    "colab": {
      "provenance": []
    },
    "kernelspec": {
      "display_name": "Python 3",
      "name": "python3"
    },
    "language_info": {
      "codemirror_mode": {
        "name": "ipython",
        "version": 3
      },
      "file_extension": ".py",
      "mimetype": "text/x-python",
      "name": "python",
      "nbconvert_exporter": "python",
      "pygments_lexer": "ipython3",
      "version": "3.10.14"
    }
  },
  "nbformat": 4,
  "nbformat_minor": 0
}
