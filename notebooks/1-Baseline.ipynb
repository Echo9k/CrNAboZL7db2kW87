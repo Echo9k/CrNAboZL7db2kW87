{
  "cells": [
    {
      "cell_type": "markdown",
      "metadata": {},
      "source": [
        "# Baseline"
      ]
    },
    {
      "cell_type": "markdown",
      "metadata": {},
      "source": [
        "## Set up"
      ]
    },
    {
      "cell_type": "code",
      "execution_count": 11,
      "metadata": {
        "colab": {
          "base_uri": "https://localhost:8080/",
          "height": 449
        },
        "id": "oUbs1HgEWYmy",
        "outputId": "6daabb6a-e5ee-4b92-c706-56ce066edccf"
      },
      "outputs": [
        {
          "name": "stdout",
          "output_type": "stream",
          "text": [
            "<class 'pandas.core.frame.DataFrame'>\n",
            "RangeIndex: 126 entries, 0 to 125\n",
            "Data columns (total 7 columns):\n",
            " #   Column  Non-Null Count  Dtype\n",
            "---  ------  --------------  -----\n",
            " 0   Y       126 non-null    int8 \n",
            " 1   X1      126 non-null    int8 \n",
            " 2   X2      126 non-null    int8 \n",
            " 3   X3      126 non-null    int8 \n",
            " 4   X4      126 non-null    int8 \n",
            " 5   X5      126 non-null    int8 \n",
            " 6   X6      126 non-null    int8 \n",
            "dtypes: int8(7)\n",
            "memory usage: 1010.0 bytes\n"
          ]
        },
        {
          "data": {
            "text/html": [
              "<div>\n",
              "<style scoped>\n",
              "    .dataframe tbody tr th:only-of-type {\n",
              "        vertical-align: middle;\n",
              "    }\n",
              "\n",
              "    .dataframe tbody tr th {\n",
              "        vertical-align: top;\n",
              "    }\n",
              "\n",
              "    .dataframe thead th {\n",
              "        text-align: right;\n",
              "    }\n",
              "</style>\n",
              "<table border=\"1\" class=\"dataframe\">\n",
              "  <thead>\n",
              "    <tr style=\"text-align: right;\">\n",
              "      <th></th>\n",
              "      <th>Y</th>\n",
              "      <th>X1</th>\n",
              "      <th>X2</th>\n",
              "      <th>X3</th>\n",
              "      <th>X4</th>\n",
              "      <th>X5</th>\n",
              "      <th>X6</th>\n",
              "    </tr>\n",
              "  </thead>\n",
              "  <tbody>\n",
              "    <tr>\n",
              "      <th>86</th>\n",
              "      <td>1</td>\n",
              "      <td>5</td>\n",
              "      <td>3</td>\n",
              "      <td>3</td>\n",
              "      <td>3</td>\n",
              "      <td>5</td>\n",
              "      <td>5</td>\n",
              "    </tr>\n",
              "    <tr>\n",
              "      <th>108</th>\n",
              "      <td>0</td>\n",
              "      <td>5</td>\n",
              "      <td>2</td>\n",
              "      <td>4</td>\n",
              "      <td>4</td>\n",
              "      <td>5</td>\n",
              "      <td>5</td>\n",
              "    </tr>\n",
              "    <tr>\n",
              "      <th>92</th>\n",
              "      <td>1</td>\n",
              "      <td>5</td>\n",
              "      <td>4</td>\n",
              "      <td>5</td>\n",
              "      <td>5</td>\n",
              "      <td>5</td>\n",
              "      <td>4</td>\n",
              "    </tr>\n",
              "    <tr>\n",
              "      <th>72</th>\n",
              "      <td>1</td>\n",
              "      <td>4</td>\n",
              "      <td>3</td>\n",
              "      <td>3</td>\n",
              "      <td>4</td>\n",
              "      <td>2</td>\n",
              "      <td>4</td>\n",
              "    </tr>\n",
              "    <tr>\n",
              "      <th>91</th>\n",
              "      <td>1</td>\n",
              "      <td>5</td>\n",
              "      <td>1</td>\n",
              "      <td>3</td>\n",
              "      <td>4</td>\n",
              "      <td>5</td>\n",
              "      <td>5</td>\n",
              "    </tr>\n",
              "  </tbody>\n",
              "</table>\n",
              "</div>"
            ],
            "text/plain": [
              "     Y  X1  X2  X3  X4  X5  X6\n",
              "86   1   5   3   3   3   5   5\n",
              "108  0   5   2   4   4   5   5\n",
              "92   1   5   4   5   5   5   4\n",
              "72   1   4   3   3   4   2   4\n",
              "91   1   5   1   3   4   5   5"
            ]
          },
          "execution_count": 11,
          "metadata": {},
          "output_type": "execute_result"
        }
      ],
      "source": [
        "import pandas as pd\n",
        "from sklearn.model_selection import train_test_split\n",
        "from sklearn.linear_model import LogisticRegression\n",
        "from sklearn.feature_selection import RFE\n",
        "from IPython.display import display, Markdown\n",
        "from pprint import pprint\n",
        "from sklearn.metrics import accuracy_score, classification_report\n",
        "\n",
        "# Load the data\n",
        "file_path = r\"../data/clean/ACME-happinesSurvey2020.parquet\"\n",
        "data = pd.read_parquet(file_path)\n",
        "\n",
        "# Display basic information about the dataset\n",
        "data_info = data.info()\n",
        "\n",
        "# Display the first few rows of the dataset\n",
        "data_info\n",
        "data.sample(5)\n"
      ]
    },
    {
      "cell_type": "markdown",
      "metadata": {},
      "source": [
        "## Modeling"
      ]
    },
    {
      "cell_type": "markdown",
      "metadata": {
        "id": "Pjgfgq0jXvlT"
      },
      "source": [
        "The data has been successfully loaded and consists of 126 entries with 7 columns: `Y`, `X1`, `X2`, `X3`, `X4`, `X5`, and `X6`. There are no missing values in the dataset."
      ]
    },
    {
      "cell_type": "markdown",
      "metadata": {
        "id": "tXafQ2d7X8EA"
      },
      "source": [
        "Let's start with splitting the data into training and test sets."
      ]
    },
    {
      "cell_type": "markdown",
      "metadata": {},
      "source": [
        "### Splitting"
      ]
    },
    {
      "cell_type": "code",
      "execution_count": 12,
      "metadata": {
        "colab": {
          "base_uri": "https://localhost:8080/"
        },
        "id": "nltRSkQSX5B2",
        "outputId": "ffc68052-0137-41ed-e36c-5855b5c1c84d"
      },
      "outputs": [
        {
          "data": {
            "text/plain": [
              "((100, 6), (26, 6), (100,), (26,))"
            ]
          },
          "execution_count": 12,
          "metadata": {},
          "output_type": "execute_result"
        }
      ],
      "source": [
        "# Separate features and target\n",
        "X = data.drop('Y', axis=1)\n",
        "y = data['Y']\n",
        "\n",
        "# Split the data into training and test sets\n",
        "X_train, X_test, y_train, y_test = train_test_split(X, y, test_size=0.2, random_state=42)\n",
        "\n",
        "X_train.shape, X_test.shape, y_train.shape, y_test.shape\n"
      ]
    },
    {
      "cell_type": "markdown",
      "metadata": {
        "id": "TE0fygKQYHAb"
      },
      "source": [
        "The data has been successfully split into training and test sets. We have 100 samples in the training set and 26 samples in the test set."
      ]
    },
    {
      "cell_type": "markdown",
      "metadata": {
        "id": "SAL9_023YJHx"
      },
      "source": [
        "Let's start with feature selection using RFE.\n",
        "\n",
        "**Feature Selection**:\n",
        "   - Use Recursive Feature Elimination (RFE) with a Logistic Regression model to identify important features."
      ]
    },
    {
      "cell_type": "markdown",
      "metadata": {},
      "source": [
        "### Feature Selection"
      ]
    },
    {
      "cell_type": "code",
      "execution_count": 13,
      "metadata": {
        "colab": {
          "base_uri": "https://localhost:8080/"
        },
        "id": "_IW9InwdYBoU",
        "outputId": "b3a2f7ec-e27b-4ad3-e4a6-fb7ea56a3622"
      },
      "outputs": [
        {
          "data": {
            "text/plain": [
              "(array([1, 2, 5, 4, 6, 3]), Index(['X1'], dtype='object'))"
            ]
          },
          "execution_count": 13,
          "metadata": {},
          "output_type": "execute_result"
        }
      ],
      "source": [
        "# Initialize the model\n",
        "model = LogisticRegression(max_iter=1000)\n",
        "\n",
        "# Initialize RFE\n",
        "rfe = RFE(model, n_features_to_select=1)\n",
        "rfe.fit(X_train, y_train)\n",
        "\n",
        "# Get the ranking of the features\n",
        "feature_ranking = rfe.ranking_\n",
        "selected_features = X.columns[rfe.support_]\n",
        "\n",
        "feature_ranking, selected_features"
      ]
    },
    {
      "cell_type": "markdown",
      "metadata": {
        "id": "ktX9qLHSYdA6"
      },
      "source": [
        "The Recursive Feature Elimination (RFE) process has identified that `X1` (my order was delivered on time) is the most important feature when predicting customer happiness."
      ]
    },
    {
      "cell_type": "markdown",
      "metadata": {
        "id": "BzmPVnSLYfMG"
      },
      "source": [
        "### Model Training and Evaluation\n",
        "\n",
        "   - Train the Logistic Regression model using all features.\n",
        "   - Evaluate the model's performance.\n",
        "   - Compare the performance with a model trained using only the selected feature `X1`."
      ]
    },
    {
      "cell_type": "markdown",
      "metadata": {
        "id": "YBhnqE2OYgyG"
      },
      "source": [
        "### Model Training with All Features"
      ]
    },
    {
      "cell_type": "code",
      "execution_count": 14,
      "metadata": {
        "colab": {
          "base_uri": "https://localhost:8080/"
        },
        "id": "S-NfMIDlYkNZ",
        "outputId": "f0617f9b-ec19-4bbf-d54e-513ee43fe17b"
      },
      "outputs": [
        {
          "name": "stdout",
          "output_type": "stream",
          "text": [
            "accuracy_all_features=0.46153846153846156\n",
            "('              precision    recall  f1-score   support\\n'\n",
            " '\\n'\n",
            " '           0       0.56      0.33      0.42        15\\n'\n",
            " '           1       0.41      0.64      0.50        11\\n'\n",
            " '\\n'\n",
            " '    accuracy                           0.46        26\\n'\n",
            " '   macro avg       0.48      0.48      0.46        26\\n'\n",
            " 'weighted avg       0.49      0.46      0.45        26\\n')\n"
          ]
        }
      ],
      "source": [
        "# Train the model with all features\n",
        "model_all_features = LogisticRegression(max_iter=1000)\n",
        "model_all_features.fit(X_train, y_train)\n",
        "\n",
        "# Predict on the test set\n",
        "y_pred_all_features = model_all_features.predict(X_test)\n",
        "\n",
        "# Evaluate the model\n",
        "accuracy_all_features = accuracy_score(y_test, y_pred_all_features)\n",
        "report_all_features = classification_report(y_test, y_pred_all_features)\n",
        "\n",
        "\n",
        "print(f'{accuracy_all_features=:}')\n",
        "pprint(report_all_features)"
      ]
    },
    {
      "cell_type": "markdown",
      "metadata": {},
      "source": [
        "#### Model Performance with All Features:"
      ]
    },
    {
      "cell_type": "markdown",
      "metadata": {
        "id": "mPG4RqzMZZg6"
      },
      "source": [
        "The results of the model evaluation are as follows:\n",
        "- **Accuracy**: 46.15%\n",
        "- **Classification Report**:\n",
        "\n",
        "|              | precision | recall | f1-score | support |\n",
        "| ------------ | --------- | ------ | -------- | ------- |\n",
        "| 0            | 0.56      | 0.33   | 0.42     | 15      |\n",
        "| 1            | 0.41      | 0.64   | 0.50     | 11      |\n",
        "| accuracy     |           |        | 0.46     | 26      |\n",
        "| macro avg    | 0.48      | 0.48   | 0.46     | 26      |\n",
        "| weighted avg | 0.49      | 0.46   | 0.45     | 26      |"
      ]
    },
    {
      "cell_type": "code",
      "execution_count": 19,
      "metadata": {
        "colab": {
          "base_uri": "https://localhost:8080/"
        },
        "id": "G_2DxVNnZa2P",
        "outputId": "6da4cf78-6aba-4732-ad1d-24c76794a9fa"
      },
      "outputs": [
        {
          "data": {
            "text/markdown": [
              "#### accuracy_all_features"
            ],
            "text/plain": [
              "<IPython.core.display.Markdown object>"
            ]
          },
          "metadata": {},
          "output_type": "display_data"
        },
        {
          "name": "stdout",
          "output_type": "stream",
          "text": [
            "0.46153846153846156\n"
          ]
        },
        {
          "data": {
            "text/markdown": [
              "#### report_all_features"
            ],
            "text/plain": [
              "<IPython.core.display.Markdown object>"
            ]
          },
          "metadata": {},
          "output_type": "display_data"
        },
        {
          "name": "stdout",
          "output_type": "stream",
          "text": [
            "('              precision    recall  f1-score   support\\n'\n",
            " '\\n'\n",
            " '           0       0.56      0.33      0.42        15\\n'\n",
            " '           1       0.41      0.64      0.50        11\\n'\n",
            " '\\n'\n",
            " '    accuracy                           0.46        26\\n'\n",
            " '   macro avg       0.48      0.48      0.46        26\\n'\n",
            " 'weighted avg       0.49      0.46      0.45        26\\n')\n"
          ]
        },
        {
          "data": {
            "text/markdown": [
              "#### accuracy_selected_feature"
            ],
            "text/plain": [
              "<IPython.core.display.Markdown object>"
            ]
          },
          "metadata": {},
          "output_type": "display_data"
        },
        {
          "name": "stdout",
          "output_type": "stream",
          "text": [
            "0.4230769230769231\n"
          ]
        },
        {
          "data": {
            "text/markdown": [
              "#### report_selected_feature"
            ],
            "text/plain": [
              "<IPython.core.display.Markdown object>"
            ]
          },
          "metadata": {},
          "output_type": "display_data"
        },
        {
          "name": "stdout",
          "output_type": "stream",
          "text": [
            "('              precision    recall  f1-score   support\\n'\n",
            " '\\n'\n",
            " '           0       0.50      0.20      0.29        15\\n'\n",
            " '           1       0.40      0.73      0.52        11\\n'\n",
            " '\\n'\n",
            " '    accuracy                           0.42        26\\n'\n",
            " '   macro avg       0.45      0.46      0.40        26\\n'\n",
            " 'weighted avg       0.46      0.42      0.38        26\\n')\n"
          ]
        }
      ],
      "source": [
        "# Train the model with all features\n",
        "model_all_features = LogisticRegression(max_iter=1000)\n",
        "model_all_features.fit(X_train, y_train)\n",
        "\n",
        "# Predict on the test set\n",
        "y_pred_all_features = model_all_features.predict(X_test)\n",
        "\n",
        "# Evaluate the model\n",
        "accuracy_all_features = accuracy_score(y_test, y_pred_all_features)\n",
        "report_all_features = classification_report(y_test, y_pred_all_features)\n",
        "\n",
        "# Train the model with the selected feature\n",
        "model_selected_feature = LogisticRegression(max_iter=1000)\n",
        "model_selected_feature.fit(X_train[['X1']], y_train)\n",
        "\n",
        "# Predict on the test set\n",
        "y_pred_selected_feature = model_selected_feature.predict(X_test[['X1']])\n",
        "\n",
        "# Evaluate the model\n",
        "accuracy_selected_feature = accuracy_score(y_test, y_pred_selected_feature)\n",
        "report_selected_feature = classification_report(y_test, y_pred_selected_feature)\n",
        "\n",
        "\n",
        "display(Markdown(\"#### accuracy_all_features\"))\n",
        "pprint(accuracy_all_features)\n",
        "\n",
        "display(Markdown(\"#### report_all_features\"))\n",
        "pprint(report_all_features)\n",
        "\n",
        "display(Markdown(\"#### accuracy_selected_feature\"))\n",
        "pprint(accuracy_selected_feature)\n",
        "\n",
        "display(Markdown(\"#### report_selected_feature\"))\n",
        "pprint(report_selected_feature)"
      ]
    },
    {
      "cell_type": "markdown",
      "metadata": {
        "id": "vywKbbPDYj4F"
      },
      "source": [
        "### Model Training with Selected Feature"
      ]
    },
    {
      "cell_type": "code",
      "execution_count": null,
      "metadata": {
        "colab": {
          "base_uri": "https://localhost:8080/"
        },
        "id": "FSWmjHJ5ZEcv",
        "outputId": "49f034be-be57-4187-c534-5774110999fc"
      },
      "outputs": [
        {
          "name": "stdout",
          "output_type": "stream",
          "text": [
            "accuracy_selected_feature=0.4230769230769231\n",
            "('              precision    recall  f1-score   support\\n'\n",
            " '\\n'\n",
            " '           0       0.50      0.20      0.29        15\\n'\n",
            " '           1       0.40      0.73      0.52        11\\n'\n",
            " '\\n'\n",
            " '    accuracy                           0.42        26\\n'\n",
            " '   macro avg       0.45      0.46      0.40        26\\n'\n",
            " 'weighted avg       0.46      0.42      0.38        26\\n')\n"
          ]
        }
      ],
      "source": [
        "# Train the model with the selected feature\n",
        "model_selected_feature = LogisticRegression(max_iter=1000)\n",
        "model_selected_feature.fit(X_train[['X1']], y_train)\n",
        "\n",
        "# Predict on the test set\n",
        "y_pred_selected_feature = model_selected_feature.predict(X_test[['X1']])\n",
        "\n",
        "# Evaluate the model\n",
        "accuracy_selected_feature = accuracy_score(y_test, y_pred_selected_feature)\n",
        "report_selected_feature = classification_report(y_test, y_pred_selected_feature)\n",
        "\n",
        "accuracy_selected_feature, report_selected_feature\n",
        "print(f'{accuracy_selected_feature=:}')\n",
        "pprint(report_selected_feature)"
      ]
    },
    {
      "cell_type": "markdown",
      "metadata": {
        "id": "YD_vpqNzZXT-"
      },
      "source": [
        "I'll run these codes to train the models and evaluate their performance."
      ]
    },
    {
      "cell_type": "markdown",
      "metadata": {
        "id": "DoBug-ovZhjq"
      },
      "source": [
        "\n",
        "### Model Performance with Selected Feature (`X1`):\n",
        "- **Accuracy**: 42.31%\n",
        "- **Classification Report**:"
      ]
    },
    {
      "cell_type": "markdown",
      "metadata": {
        "id": "r0Mwf6tmZu25"
      },
      "source": [
        "\n",
        "### Analysis:\n",
        "- The model trained with all features performs slightly better than the model trained with only the selected feature `X1`.\n",
        "- However, the accuracy of both models is relatively low and below the target of 73%.\n",
        "\n",
        "### Next Steps:\n",
        "1. **Try Different Models**:\n",
        " - Experiment with different classification algorithms (e.g., Random Forest, Support Vector Machine, etc.).\n",
        " - Perform hyperparameter tuning to improve model performance.\n",
        "\n",
        "2. **Feature Engineering**:\n",
        " - Consider creating new features or combining existing ones to capture more information.\n",
        "\n",
        "3. **Cross-Validation**:\n",
        " - Use cross-validation to ensure the model's performance is consistent and not overfitting."
      ]
    },
    {
      "cell_type": "markdown",
      "metadata": {},
      "source": []
    }
  ],
  "metadata": {
    "colab": {
      "provenance": []
    },
    "kernelspec": {
      "display_name": "Python 3",
      "name": "python3"
    },
    "language_info": {
      "codemirror_mode": {
        "name": "ipython",
        "version": 3
      },
      "file_extension": ".py",
      "mimetype": "text/x-python",
      "name": "python",
      "nbconvert_exporter": "python",
      "pygments_lexer": "ipython3",
      "version": "3.10.14"
    }
  },
  "nbformat": 4,
  "nbformat_minor": 0
}
